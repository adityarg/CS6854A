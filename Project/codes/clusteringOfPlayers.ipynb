{
 "cells": [
  {
   "cell_type": "code",
   "execution_count": 17,
   "metadata": {},
   "outputs": [],
   "source": [
    "import pandas as pd\n",
    "import numpy as np\n",
    "import matplotlib.pyplot as plt\n",
    "from sklearn.cluster import KMeans\n",
    "from collections import Counter"
   ]
  },
  {
   "cell_type": "code",
   "execution_count": 18,
   "metadata": {},
   "outputs": [],
   "source": [
    "## data of runs made by players\n",
    "df = pd.read_csv(\"Result-Player-Points-2020.csv\")\n",
    "df = df.replace('-','0')"
   ]
  },
  {
   "cell_type": "code",
   "execution_count": 19,
   "metadata": {},
   "outputs": [
    {
     "data": {
      "text/plain": [
       "<matplotlib.collections.PathCollection at 0x2d0e788a320>"
      ]
     },
     "execution_count": 19,
     "metadata": {},
     "output_type": "execute_result"
    },
    {
     "data": {
      "image/png": "[encoded data removed]",
      "text/plain": [
       "<Figure size 432x288 with 1 Axes>"
      ]
     },
     "metadata": {
      "needs_background": "light"
     },
     "output_type": "display_data"
    }
   ],
   "source": [
    "## extracting some useful features and converting them to float\n",
    "x1 = df.iloc[:,4].astype(float) / df.iloc[:,3].astype(float)\n",
    "x2 = df.iloc[:,6].astype(float) / df.iloc[:,3].astype(float)\n",
    "x3 = df.iloc[:,7].astype(float) / df.iloc[:,3].astype(float)\n",
    "data = np.zeros((len(x1),3))\n",
    "data[:,0] = x1 \n",
    "data[:,1] = x2\n",
    "data[:,2] = x3\n",
    "#data = (data - data.mean(axis=0))/data.std(axis=0)\n",
    "plt.scatter(data[:,0],data[:,1])"
   ]
  },
  {
   "cell_type": "code",
   "execution_count": 23,
   "metadata": {},
   "outputs": [],
   "source": [
    "## applying K-means clustering\n",
    "kmeans = KMeans(n_clusters = 3)\n",
    "kmeans.fit(data)\n",
    "centroids = kmeans.cluster_centers_\n",
    "labels = kmeans.labels_"
   ]
  },
  {
   "cell_type": "code",
   "execution_count": 24,
   "metadata": {},
   "outputs": [
    {
     "data": {
      "text/plain": [
       "<matplotlib.collections.PathCollection at 0x2d0e7930c88>"
      ]
     },
     "execution_count": 24,
     "metadata": {},
     "output_type": "execute_result"
    },
    {
     "data": {
      "image/png": "[encoded data removed]",
      "text/plain": [
       "<Figure size 432x288 with 1 Axes>"
      ]
     },
     "metadata": {
      "needs_background": "light"
     },
     "output_type": "display_data"
    }
   ],
   "source": [
    "## visualizing the clusters \n",
    "colors = np.array(['r','g','b'])\n",
    "plt.scatter(x1,x2,c=colors[labels])\n",
    "#plt.scatter(centroids[:,0],centroids[:,1],c='k')"
   ]
  },
  {
   "cell_type": "code",
   "execution_count": 25,
   "metadata": {},
   "outputs": [
    {
     "data": {
      "text/plain": [
       "[['Jofra Archer',\n",
       "  'Kagiso Rabada',\n",
       "  'Jasprit Bumrah',\n",
       "  'Rashid Khan',\n",
       "  'Trent Boult',\n",
       "  'Anrich Nortje',\n",
       "  'Pat Cummins',\n",
       "  'Mohammad Shami',\n",
       "  'T Natarajan',\n",
       "  'Yuzvendra Chahal',\n",
       "  'Axar Patel',\n",
       "  'Varun Chakravarthy',\n",
       "  'Washington Sundar',\n",
       "  'Ravi Bishnoi',\n",
       "  'Krunal Pandya',\n",
       "  'Sandeep Sharma',\n",
       "  'Deepak Chahar',\n",
       "  'Rahul Chahar',\n",
       "  'Ravichandran Ashwin',\n",
       "  'Chris Morris',\n",
       "  'Navdeep Saini',\n",
       "  'Shreyas Gopal',\n",
       "  'Mohammed Siraj',\n",
       "  'Jason Holder',\n",
       "  'James Pattinson',\n",
       "  'Kartik Tyagi',\n",
       "  'Murugan Ashwin',\n",
       "  'Chris Jordan',\n",
       "  'Shardul Thakur',\n",
       "  'Shivam Mavi',\n",
       "  'Nathan Coulter-Nile',\n",
       "  'Arshdeep Singh',\n",
       "  'Khaleel Ahmed',\n",
       "  'Isuru Udana',\n",
       "  'Lockie Ferguson',\n",
       "  'Sheldon Cottrell',\n",
       "  'Kamlesh Nagarkoti',\n",
       "  'Lungi Ngidi',\n",
       "  'Dwayne Bravo',\n",
       "  'Piyush Chawla',\n",
       "  'Shahbaz Nadeem',\n",
       "  'Prasidh Krishna',\n",
       "  'Jaydev Unadkat',\n",
       "  'Tushar Deshpande',\n",
       "  'Bhuvneshwar Kumar',\n",
       "  'Karn Sharma',\n",
       "  'Ankit Rajpoot',\n",
       "  'Harshal Patel',\n",
       "  'Jimmy Neesham',\n",
       "  'Josh Hazlewood',\n",
       "  'Amit Mishra',\n",
       "  'Daniel Sams',\n",
       "  'Adam Zampa',\n",
       "  'Imran Tahir',\n",
       "  'Dale Steyn',\n",
       "  'Kuldeep Yadav',\n",
       "  'Mitchell Santner',\n",
       "  'Varun Aaron',\n",
       "  'Shahbaz Ahmed',\n",
       "  'Jayant Yadav',\n",
       "  'Moeen Ali',\n",
       "  'Pravin Dubey',\n",
       "  'Umesh Yadav',\n",
       "  'Siddarth Kaul',\n",
       "  'Mujeeb Ur Rahman',\n",
       "  'Andrew Tye',\n",
       "  'Mohit Sharma',\n",
       "  'Alex Carey',\n",
       "  'Basil Thampi',\n",
       "  'Sandeep Warrier',\n",
       "  'Karun Nair',\n",
       "  'Avesh Khan',\n",
       "  'Harpreet Brar',\n",
       "  'Chris Green',\n",
       "  'Dhawal Kulkarni',\n",
       "  'Monu Kumar',\n",
       "  'Ishant Sharma',\n",
       "  'Nikhil Naik',\n",
       "  'Shreevats Goswami',\n",
       "  'Mitchell Marsh',\n",
       "  'David Miller'],\n",
       " ['KL Rahul',\n",
       "  'Quinton de Kock',\n",
       "  'Shikhar Dhawan',\n",
       "  'Suryakumar Yadav',\n",
       "  'David Warner',\n",
       "  'Ishan Kishan',\n",
       "  'AB de Villiers',\n",
       "  'Faf du Plessis',\n",
       "  'Mayank Agarwal',\n",
       "  'Devdutt Padikkal',\n",
       "  'Eoin Morgan',\n",
       "  'Shreyas Iyer',\n",
       "  'Manish Pandey',\n",
       "  'Ben Stokes',\n",
       "  'Shubman Gill',\n",
       "  'Nitish Rana',\n",
       "  'Rohit Sharma',\n",
       "  'Jonny Bairstow',\n",
       "  'Rishabh Pant',\n",
       "  'Jos Buttler',\n",
       "  'Shane Watson',\n",
       "  'Ambati Rayudu',\n",
       "  'Chris Gayle',\n",
       "  'Steve Smith',\n",
       "  'Kane Williamson',\n",
       "  'Aaron Finch',\n",
       "  'Wriddhiman Saha',\n",
       "  'Ruturaj Gaikwad'],\n",
       " ['Rahul Tewatia',\n",
       "  'Marcus Stoinis',\n",
       "  'Sam Curran',\n",
       "  'Ravindra Jadeja',\n",
       "  'Kieron Pollard',\n",
       "  'Sanju Samson',\n",
       "  'Nicholas Pooran',\n",
       "  'Sunil Narine',\n",
       "  'Hardik Pandya',\n",
       "  'Andre Russell',\n",
       "  'Prithvi Shaw',\n",
       "  'MS Dhoni',\n",
       "  'Virat Kohli',\n",
       "  'Rahul Tripathi',\n",
       "  'Shimron Hetmyer',\n",
       "  'Dinesh Karthik',\n",
       "  'Glenn Maxwell',\n",
       "  'Robin Uthappa',\n",
       "  'Shivam Dube',\n",
       "  'Vijay Shankar',\n",
       "  'Abdul Samad',\n",
       "  'Tom Curran',\n",
       "  'Priyam Garg',\n",
       "  'Ajinkya Rahane',\n",
       "  'Abhishek Sharma',\n",
       "  'Mandeep Singh',\n",
       "  'Deepak Hooda',\n",
       "  'Saurabh Tiwary',\n",
       "  'Gurkeerat Mann Singh',\n",
       "  'Riyan Parag',\n",
       "  'Krishnappa Gowtham',\n",
       "  'Josh Philippe',\n",
       "  'Kedar Jadhav',\n",
       "  'Sarfaraz Khan',\n",
       "  'Mahipal Lomror',\n",
       "  'Yashasvi Jaiswal',\n",
       "  'Narayan Jagadeesan',\n",
       "  'Murali Vijay',\n",
       "  'Mohammad Nabi',\n",
       "  'Simran Singh',\n",
       "  'Tom Banton',\n",
       "  'Rinku Singh']]"
      ]
     },
     "execution_count": 25,
     "metadata": {},
     "output_type": "execute_result"
    }
   ],
   "source": [
    "players = [[],[],[]]\n",
    "for i in range(len(df)):\n",
    "    players[labels[i]].append(df.iloc[i,1])\n",
    "players"
   ]
  },
  {
   "cell_type": "code",
   "execution_count": 26,
   "metadata": {},
   "outputs": [],
   "source": [
    "df1 = pd.read_csv(\"Result-Most-Runs-2020.csv\")"
   ]
  },
  {
   "cell_type": "code",
   "execution_count": 27,
   "metadata": {},
   "outputs": [],
   "source": [
    "## scores for starting order batsman\n",
    "rank = (df1.iloc[:,5]/df1.iloc[:,2])/30  +  (df1.iloc[:,9]/100)\n",
    "a = np.zeros((len(rank),))\n",
    "a[df1.iloc[:,3]>10] = 1\n",
    "rank = rank*a\n",
    "rankMap = {}\n",
    "for i in range(len(rank)):\n",
    "    rankMap[df1.iloc[i,1]] = rank[i]\n"
   ]
  },
  {
   "cell_type": "code",
   "execution_count": 28,
   "metadata": {},
   "outputs": [],
   "source": [
    "## scores for middle order batsman\n",
    "rank2 =  (df1.iloc[:,9]/100) + (df1.iloc[:,13]/max(df1.iloc[:,13]))\n",
    "rank2Map = {}\n",
    "for i in range(len(rank2)):\n",
    "    rank2Map[df1.iloc[i,1]] = rank2[i]\n",
    "    "
   ]
  },
  {
   "cell_type": "code",
   "execution_count": 29,
   "metadata": {},
   "outputs": [],
   "source": [
    "## scores for bowlers\n",
    "df2 = pd.read_csv(\"Result-Most-Wickets-2020.csv\")\n",
    "rank3 = (df2.iloc[:,6]/max(df2.iloc[:,6])) + (7/df2.iloc[:,9])\n",
    "rank3Map = {}\n",
    "for i in range(len(rank3)):\n",
    "    rank3Map[df2.iloc[i,1]] = rank3[i]"
   ]
  },
  {
   "cell_type": "code",
   "execution_count": 33,
   "metadata": {},
   "outputs": [],
   "source": [
    "playerScore = [{},{},{}]\n",
    "\n",
    "## here you have to check the cluster group and accordingly rank them \n",
    "for i in players[0] :\n",
    "    if i in rank3Map :\n",
    "        playerScore[2][i] = rank3Map[i]\n",
    "for i in players[1] :\n",
    "    if i in rankMap :\n",
    "        playerScore[0][i] = rankMap[i]\n",
    "for i in players[2] :\n",
    "    if i in rank2Map :\n",
    "        playerScore[1][i] = rank2Map[i]"
   ]
  },
  {
   "cell_type": "code",
   "execution_count": 34,
   "metadata": {},
   "outputs": [],
   "source": [
    "a = Counter(playerScore[0])\n",
    "start = a.most_common(4)\n",
    "a = Counter(playerScore[1])\n",
    "mid = a.most_common(3)\n",
    "a = Counter(playerScore[2])\n",
    "end = a.most_common(4)"
   ]
  },
  {
   "cell_type": "code",
   "execution_count": 35,
   "metadata": {},
   "outputs": [
    {
     "name": "stdout",
     "output_type": "stream",
     "text": [
      "[('KL Rahul', 2.888638095238095), ('Mayank Agarwal', 2.849348484848485), ('Ishan Kishan', 2.6861714285714284), ('Shikhar Dhawan', 2.6590647058823524)]\n",
      "[('Kieron Pollard', 2.647533333333333), ('Hardik Pandya', 2.623133333333333), ('Nicholas Pooran', 2.5304333333333333)]\n",
      "[('Rashid Khan', 1.9702048417132216), ('Jasprit Bumrah', 1.940118870728083), ('Kagiso Rabada', 1.839328537170264), ('Jofra Archer', 1.7353689567430024)]\n"
     ]
    }
   ],
   "source": [
    "print(start)\n",
    "print(mid)\n",
    "print(end)"
   ]
  },
  {
   "cell_type": "code",
   "execution_count": null,
   "metadata": {},
   "outputs": [],
   "source": []
  }
 ],
 "metadata": {
  "kernelspec": {
   "display_name": "Python 3",
   "language": "python",
   "name": "python3"
  },
  "language_info": {
   "codemirror_mode": {
    "name": "ipython",
    "version": 3
   },
   "file_extension": ".py",
   "mimetype": "text/x-python",
   "name": "python",
   "nbconvert_exporter": "python",
   "pygments_lexer": "ipython3",
   "version": "3.7.0"
  }
 },
 "nbformat": 4,
 "nbformat_minor": 2
}
