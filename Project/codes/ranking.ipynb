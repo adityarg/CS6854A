{
 "cells": [
  {
   "cell_type": "code",
   "execution_count": 1,
   "metadata": {},
   "outputs": [],
   "source": [
    "import pandas as pd\n",
    "import numpy as np"
   ]
  },
  {
   "cell_type": "code",
   "execution_count": 2,
   "metadata": {},
   "outputs": [],
   "source": [
    "df1 = pd.read_csv(\"Result-Most-Runs-2020.csv\")\n",
    "df2 = pd.read_csv(\"Result-Most-Wickets-2020.csv\")"
   ]
  },
  {
   "cell_type": "code",
   "execution_count": 25,
   "metadata": {},
   "outputs": [],
   "source": [
    "## scores for starting order batsman\n",
    "batrank = (df1.iloc[:,5]/df1.iloc[:,2])/30  +  (df1.iloc[:,9]/100)\n",
    "a = np.zeros((len(batrank),))\n",
    "a[df1.iloc[:,3]>10] = 1\n",
    "batrank = batrank*a\n",
    "batrankMap = {}\n",
    "for i in range(len(batrank)):\n",
    "    batrankMap[df1.iloc[i,1]] = batrank[i]"
   ]
  },
  {
   "cell_type": "code",
   "execution_count": 26,
   "metadata": {},
   "outputs": [],
   "source": [
    "## scores for middle order batsman\n",
    "midrank =  (df1.iloc[:,9]/100) + (df1.iloc[:,13]/max(df1.iloc[:,13]))\n",
    "midrankMap = {}\n",
    "for i in range(len(midrank)):\n",
    "    midrankMap[df1.iloc[i,1]] = midrank[i]"
   ]
  },
  {
   "cell_type": "code",
   "execution_count": 27,
   "metadata": {},
   "outputs": [],
   "source": [
    "## scores for bowlers\n",
    "ballrank = (df2.iloc[:,6]/max(df2.iloc[:,6])) + (7/df2.iloc[:,9])\n",
    "ballrankMap = {}\n",
    "for i in range(len(ballrank)):\n",
    "    ballrankMap[df2.iloc[i,1]] = ballrank[i]"
   ]
  },
  {
   "cell_type": "code",
   "execution_count": 28,
   "metadata": {},
   "outputs": [],
   "source": [
    "opener = {k: v for k, v in sorted(batrankMap.items(), key=lambda item: item[1])}\n",
    "middle = {k: v for k, v in sorted(midrankMap.items(), key=lambda item: item[1])}\n",
    "bowler = {k: v for k, v in sorted(ballrankMap.items(), key=lambda item: item[1])}"
   ]
  },
  {
   "cell_type": "code",
   "execution_count": 36,
   "metadata": {},
   "outputs": [],
   "source": [
    "olist = []   # ranks of opening batsman\n",
    "mlist = []   # rabks of middle batsmen\n",
    "blist = []   # ranks of bowlers\n",
    "for i in opener :\n",
    "    olist.append([i,opener[i]])\n",
    "olist.reverse()\n",
    "for i in middle :\n",
    "    mlist.append([i,middle[i]])\n",
    "mlist.reverse()\n",
    "for i in bowler :\n",
    "    blist.append([i,bowler[i]])\n",
    "blist.reverse()"
   ]
  },
  {
   "cell_type": "code",
   "execution_count": 35,
   "metadata": {},
   "outputs": [
    {
     "data": {
      "text/plain": [
       "[['Rashid Khan', 1.9702048417132216],\n",
       " ['Jasprit Bumrah', 1.940118870728083],\n",
       " ['Kagiso Rabada', 1.839328537170264],\n",
       " ['Jofra Archer', 1.7353689567430024],\n",
       " ['Trent Boult', 1.7116269343370976],\n",
       " ['Yuzvendra Chahal', 1.6887005649717515],\n",
       " ['Varun Chakravarthy', 1.5900584795321637],\n",
       " ['Anrich Nortje', 1.5676599125943582],\n",
       " ['Mohammad Shami', 1.483469467133411],\n",
       " ['Washington Sundar', 1.4411633109619686],\n",
       " ['Sandeep Sharma', 1.4402410755679185],\n",
       " ['Chris Morris', 1.422473604826546],\n",
       " ['T Natarajan', 1.4061512884455527],\n",
       " ['Axar Patel', 1.39204368174727],\n",
       " ['Rahul Chahar', 1.357843137254902],\n",
       " ['Ravi Bishnoi', 1.349796472184532],\n",
       " ['Ravichandran Ashwin', 1.3471714534377721],\n",
       " ['Rahul Tewatia', 1.3220338983050848],\n",
       " ['Deepak Chahar', 1.3198423127463863],\n",
       " ['Jason Holder', 1.3080128205128205],\n",
       " ['Pat Cummins', 1.2905852417302799],\n",
       " ['Sam Curran', 1.2880341880341881],\n",
       " ['Murugan Ashwin', 1.2716711349419123],\n",
       " ['Vijay Shankar', 1.2587352625937835],\n",
       " ['Mohammad Nabi', 1.2173913043478262],\n",
       " ['Jayant Yadav', 1.173398479913138],\n",
       " ['Mohammed Siraj', 1.1731182795698925],\n",
       " ['Marcus Stoinis', 1.167855893669115],\n",
       " ['Chris Gayle', 1.1666666666666667],\n",
       " ['Shivam Mavi', 1.1588957055214724],\n",
       " ['Shardul Thakur', 1.156862745098039],\n",
       " ['Shreyas Gopal', 1.1530054644808745],\n",
       " ['James Pattinson', 1.1435812060673325],\n",
       " ['Lockie Ferguson', 1.138337801608579],\n",
       " ['Josh Hazlewood', 1.1270833333333334],\n",
       " ['Krunal Pandya', 1.1247027741083222],\n",
       " ['Bhuvneshwar Kumar', 1.102865329512894],\n",
       " ['Arshdeep Singh', 1.098175598631699],\n",
       " ['Amit Mishra', 1.0722222222222222],\n",
       " ['Nathan Coulter-Nile', 1.0505050505050506],\n",
       " ['Sunil Narine', 1.0482787573467673],\n",
       " ['Imran Tahir', 1.0478260869565217],\n",
       " ['Navdeep Saini', 1.0443908323281061],\n",
       " ['Shahbaz Nadeem', 1.0319324268644416],\n",
       " ['Kartik Tyagi', 1.02840790842872],\n",
       " ['Chris Jordan', 1.0253886010362694],\n",
       " ['Shahbaz Ahmed', 1.0216462028194635],\n",
       " ['Dwayne Bravo', 1.0168028004667444],\n",
       " ['Khaleel Ahmed', 1.0097664543524416],\n",
       " ['Ravindra Jadeja', 1.0],\n",
       " ['Shivam Dube', 0.996465269214961],\n",
       " ['Sheldon Cottrell', 0.9954545454545454],\n",
       " ['Mitchell Santner', 0.9913694407749889],\n",
       " ['Isuru Udana', 0.9868312757201645],\n",
       " ['Karn Sharma', 0.9731182795698925],\n",
       " ['Lungi Ngidi', 0.9711409395973154],\n",
       " ['Glenn Maxwell', 0.9706467661691544],\n",
       " ['Piyush Chawla', 0.9700770077007701],\n",
       " ['Dhawal Kulkarni', 0.9549795361527967],\n",
       " ['Kamlesh Nagarkoti', 0.9549549549549549],\n",
       " ['Kuldeep Yadav', 0.947171453437772],\n",
       " ['Andre Russell', 0.9201646090534978],\n",
       " ['Kieron Pollard', 0.9076696165191741],\n",
       " ['Adam Zampa', 0.9039872408293461],\n",
       " ['Harshal Patel', 0.8838745800671892],\n",
       " ['Prasidh Krishna', 0.88039843472074],\n",
       " ['Moeen Ali', 0.8666666666666666],\n",
       " ['Jaydev Unadkat', 0.839690548267743],\n",
       " ['Abhishek Sharma', 0.8358974358974359],\n",
       " ['Chris Green', 0.8264462809917354],\n",
       " ['Ishant Sharma', 0.8083140877598153],\n",
       " ['Pravin Dubey', 0.7777777777777778],\n",
       " ['Deepak Hooda', 0.7777777777777778],\n",
       " ['Mitchell Marsh', 0.7777777777777778],\n",
       " ['Jimmy Neesham', 0.776605814739689],\n",
       " ['Ben Stokes', 0.7489278752436647],\n",
       " ['Daniel Sams', 0.7368421052631579],\n",
       " ['Tushar Deshpande', 0.7200177147918512],\n",
       " ['Tom Curran', 0.7118881118881119],\n",
       " ['Monu Kumar', 0.7],\n",
       " ['Krishnappa Gowtham', 0.7],\n",
       " ['Harpreet Brar', 0.6829268292682927],\n",
       " ['Mujeeb Ur Rahman', 0.6750241080038574],\n",
       " ['Avesh Khan', 0.6666666666666666],\n",
       " ['Ankit Rajpoot', 0.6649572649572649],\n",
       " ['Mohit Sharma', 0.6555555555555556],\n",
       " ['Dale Steyn', 0.6473684210526316],\n",
       " ['Basil Thampi', 0.6420289855072464],\n",
       " ['Sandeep Warrier', 0.617828773168579],\n",
       " ['Nitish Rana', 0.6086956521739131],\n",
       " ['Varun Aaron', 0.5957446808510638],\n",
       " ['Andrew Tye', 0.5933333333333334],\n",
       " ['Umesh Yadav', 0.5907172995780591],\n",
       " ['David Warner', 0.5833333333333334],\n",
       " ['Kane Williamson', 0.5833333333333334],\n",
       " ['Abdul Samad', 0.5439095550692924],\n",
       " ['Riyan Parag', 0.5185185185185185],\n",
       " ['Siddarth Kaul', 0.5041666666666667]]"
      ]
     },
     "execution_count": 35,
     "metadata": {},
     "output_type": "execute_result"
    }
   ],
   "source": []
  },
  {
   "cell_type": "code",
   "execution_count": null,
   "metadata": {},
   "outputs": [],
   "source": []
  },
  {
   "cell_type": "code",
   "execution_count": null,
   "metadata": {},
   "outputs": [],
   "source": []
  }
 ],
 "metadata": {
  "kernelspec": {
   "display_name": "Python 3",
   "language": "python",
   "name": "python3"
  },
  "language_info": {
   "codemirror_mode": {
    "name": "ipython",
    "version": 3
   },
   "file_extension": ".py",
   "mimetype": "text/x-python",
   "name": "python",
   "nbconvert_exporter": "python",
   "pygments_lexer": "ipython3",
   "version": "3.7.0"
  }
 },
 "nbformat": 4,
 "nbformat_minor": 2
}
