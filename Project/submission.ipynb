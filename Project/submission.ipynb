{
 "cells": [
  {
   "cell_type": "code",
   "execution_count": 56,
   "metadata": {},
   "outputs": [],
   "source": [
    "import numpy as np\n",
    "import pandas as pd\n",
    "import matplotlib.pyplot as plt"
   ]
  },
  {
   "cell_type": "markdown",
   "metadata": {},
   "source": [
    "## Effect of Home-Away Win"
   ]
  },
  {
   "cell_type": "code",
   "execution_count": 57,
   "metadata": {},
   "outputs": [
    {
     "name": "stdout",
     "output_type": "stream",
     "text": [
      "0 - Rising Pune Supergiant; 1 - Mumbai Indians; 2 - Chennai Super Kings; 3 - Delhi Capitals; 4 - Sunrisers Hyderabad; 5 - Rajasthan Royals; 6 - Deccan Chargers; 7 - Kings XI Punjab; 8 - Royal Challengers Bangalore; 9 - Kolkata Knight Riders; 10 - Delhi Daredevils; 11 - Pune Warriors; 12 - Kochi Tuskers Kerala; 13 - Gujarat Lions; "
     ]
    },
    {
     "data": {
      "image/png": "[encoded data removed]",
      "text/plain": [
       "<Figure size 720x360 with 1 Axes>"
      ]
     },
     "metadata": {
      "needs_background": "light"
     },
     "output_type": "display_data"
    }
   ],
   "source": [
    "df=pd.read_csv('teamwise_home_and_away.csv')\n",
    "\n",
    "home=df['home_win_percentage'].to_numpy()\n",
    "away=df['away_win_percentage'].to_numpy()\n",
    "\n",
    "ratio = home/away\n",
    "ratio = ratio\n",
    "fig=plt.figure(figsize=(10,5))\n",
    "plt.plot(range(len(away)),ratio)\n",
    "plt.grid()\n",
    "\n",
    "for i in range(len(home)):\n",
    "    print(i,'-',df['team'][i],end=\"; \")"
   ]
  },
  {
   "cell_type": "code",
   "execution_count": 60,
   "metadata": {},
   "outputs": [
    {
     "name": "stdout",
     "output_type": "stream",
     "text": [
      "Least:  ['Rising Pune Supergiant', 'Mumbai Indians']\n",
      "Moderate:  ['Chennai Super Kings', 'Delhi Capitals', 'Sunrisers Hyderabad', 'Rajasthan Royals', 'Deccan Chargers', 'Kings XI Punjab', 'Royal Challengers Bangalore', 'Kolkata Knight Riders', 'Delhi Daredevils', 'Pune Warriors']\n",
      "Most:  ['Kochi Tuskers Kerala', 'Gujarat Lions']\n"
     ]
    }
   ],
   "source": [
    "low=[]; med=[]; high=[]\n",
    "for i in range(len(ratio)):\n",
    "    if abs(ratio[i]-1)<=0.1:\n",
    "        low.append(df['team'][i])\n",
    "    elif abs(ratio[i]-1)<=0.4:\n",
    "        med.append(df['team'][i])\n",
    "    else:\n",
    "        high.append(df['team'][i])\n",
    "print('Least: ',low)\n",
    "print('Moderate: ',med)\n",
    "print('Most: ',high)"
   ]
  },
  {
   "cell_type": "markdown",
   "metadata": {},
   "source": [
    "**LEAST** effect on home-away games: Rising Pune Supergiant & Mumbai Indians<br>\n",
    "**MOST** effect on home-away games : Kochi Tuskers Kerala & Gujarat Lions have most impact on home-away games.<br>\n",
    "Rest have **MODERATE** effects."
   ]
  },
  {
   "cell_type": "markdown",
   "metadata": {},
   "source": [
    "Rising Pune Supergiant, Kochi Tuskers Kerala & Gujarat Lions have played very few matches relative to other teams, so it is expected that they will move to MODERATE section after several matches.\n",
    "Only Mumbai Indians show very less effect after playing significant matches."
   ]
  },
  {
   "cell_type": "markdown",
   "metadata": {},
   "source": [
    "Execpt **Deccan Chargers** & **Pune Warriors**, all other teams have played better in away matches than in home matches."
   ]
  },
  {
   "cell_type": "markdown",
   "metadata": {},
   "source": [
    "So, on average teams have slight effect of home-away match and most of the teams perform better in away matches."
   ]
  },
  {
   "cell_type": "markdown",
   "metadata": {},
   "source": [
    "## Effect of Toss Winning"
   ]
  },
  {
   "cell_type": "code",
   "execution_count": 73,
   "metadata": {},
   "outputs": [
    {
     "data": {
      "text/plain": [
       "{'Pune Warriors': 0,\n",
       " 'Kolkata Knight Riders': 1,\n",
       " 'Rajasthan Royals': 2,\n",
       " 'Kochi Tuskers Kerala': 3,\n",
       " 'Gujarat Lions': 4,\n",
       " 'Chennai Super Kings': 5,\n",
       " 'Rising Pune Supergiants': 6,\n",
       " 'Delhi Daredevils': 7,\n",
       " 'Deccan Chargers': 8,\n",
       " 'Delhi Capitals': 9,\n",
       " 'Mumbai Indians': 10,\n",
       " 'Sunrisers Hyderabad': 11,\n",
       " 'Rising Pune Supergiant': 12,\n",
       " 'Royal Challengers Bangalore': 13,\n",
       " 'Kings XI Punjab': 14}"
      ]
     },
     "execution_count": 73,
     "metadata": {},
     "output_type": "execute_result"
    }
   ],
   "source": [
    "# teams name dictionary\n",
    "df=pd.read_csv('teams.csv')\n",
    "ant=list(df['team1']); teams={}\n",
    "for i in range(len(ant)):\n",
    "    teams[ant[i]]=i\n",
    "# print(len(teams))\n",
    "df=pd.read_csv('matches.csv')\n",
    "# df.dropna(inplace=True)\n",
    "df = df[df['winner'].isnull()==False]\n",
    "teams"
   ]
  },
  {
   "cell_type": "code",
   "execution_count": 74,
   "metadata": {},
   "outputs": [],
   "source": [
    "guii={'bat':0, 'field':1}\n",
    "tosss=pd.DataFrame(columns = ['Tot_Tw','Tot_Tl','Tw_Wn','Tl_Wn','Tw_per','Tl_per'])\n",
    "for i in range(15):\n",
    "    nr={'Tot_Tw':0, 'Tot_Tl':0, 'Tw_Wn':0 ,'Tl_Wn':0, 'Tw_per':0, 'Tl_per':0}\n",
    "    tosss=tosss.append(nr,ignore_index=True)\n",
    "\n",
    "for k in df.index:\n",
    "    i=teams[df['team1'][k]]; j=teams[df['team2'][k]]\n",
    "    if teams[df['toss_winner'][k]]==i:\n",
    "        tosss['Tot_Tw'][i]+=1; tosss['Tot_Tl'][j]+=1\n",
    "        if teams[df['winner'][k]]==i:\n",
    "            tosss['Tw_Wn'][i]+=1\n",
    "        else:\n",
    "            tosss['Tl_Wn'][j]+=1\n",
    "    else:\n",
    "        tosss['Tot_Tw'][j]+=1; tosss['Tot_Tl'][i]+=1;\n",
    "        if teams[df['winner'][k]]==j:\n",
    "            tosss['Tw_Wn'][j]+=1\n",
    "        else:\n",
    "            tosss['Tl_Wn'][i]+=1\n",
    "for i in tosss.index:\n",
    "    tosss['Tw_per'][i] = (tosss['Tw_Wn'][i]/tosss['Tot_Tw'][i])*100\n",
    "    tosss['Tl_per'][i] = (tosss['Tl_Wn'][i]/tosss['Tot_Tl'][i])*100"
   ]
  },
  {
   "cell_type": "code",
   "execution_count": 71,
   "metadata": {},
   "outputs": [
    {
     "name": "stdout",
     "output_type": "stream",
     "text": [
      "Least:  ['Rajasthan Royals', 'Mumbai Indians']\n",
      "Moderate:  ['Pune Warriors', 'Kolkata Knight Riders', 'Kochi Tuskers Kerala', 'Chennai Super Kings', 'Rising Pune Supergiants', 'Delhi Daredevils', 'Deccan Chargers', 'Delhi Capitals', 'Sunrisers Hyderabad', 'Royal Challengers Bangalore', 'Kings XI Punjab']\n",
      "Most:  ['Gujarat Lions', 'Rising Pune Supergiant']\n"
     ]
    },
    {
     "data": {
      "image/png": "[encoded data removed]",
      "text/plain": [
       "<Figure size 720x360 with 1 Axes>"
      ]
     },
     "metadata": {
      "needs_background": "light"
     },
     "output_type": "display_data"
    }
   ],
   "source": [
    "t1=tosss['Tw_per'].to_numpy(); t2=tosss['Tl_per'].to_numpy()\n",
    "ratio=t1/t2\n",
    "fig=plt.figure(figsize=(10,5))\n",
    "plt.plot(range(len(ratio)),ratio)\n",
    "plt.grid()\n",
    "\n",
    "low=[]; med=[]; high=[]\n",
    "for i in range(len(ratio)):\n",
    "    if abs(ratio[i]-1)<=0.1:\n",
    "        low.append(ant[i])\n",
    "    elif abs(ratio[i]-1)<=0.6:\n",
    "        med.append(ant[i])\n",
    "    else:\n",
    "        high.append(ant[i])\n",
    "print('Least: ',low)\n",
    "print('Moderate: ',med)\n",
    "print('Most: ',high)"
   ]
  },
  {
   "cell_type": "markdown",
   "metadata": {},
   "source": [
    "Almost all teams won their matches when they won the match toss, except Mumbai Indians, Sunrisers Hydrabad, Pune Warriors, Kings XI Punjab. Out of which Mumbai Indians have LEAST affect and Sunrisers Hydrabad, Pune Warriors, Kings XI Punjab have MODERATE affect.<br>\n",
    "Therefore, on average teams win their match when they win the toss"
   ]
  }
 ],
 "metadata": {
  "kernelspec": {
   "display_name": "Python 3",
   "language": "python",
   "name": "python3"
  },
  "language_info": {
   "codemirror_mode": {
    "name": "ipython",
    "version": 3
   },
   "file_extension": ".py",
   "mimetype": "text/x-python",
   "name": "python",
   "nbconvert_exporter": "python",
   "pygments_lexer": "ipython3",
   "version": "3.7.6"
  }
 },
 "nbformat": 4,
 "nbformat_minor": 4
}
