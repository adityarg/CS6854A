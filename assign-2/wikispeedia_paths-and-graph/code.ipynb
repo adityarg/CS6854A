{
  "nbformat": 4,
  "nbformat_minor": 0,
  "metadata": {
    "kernelspec": {
      "display_name": "Python 3",
      "language": "python",
      "name": "python3"
    },
    "language_info": {
      "codemirror_mode": {
        "name": "ipython",
        "version": 3
      },
      "file_extension": ".py",
      "mimetype": "text/x-python",
      "name": "python",
      "nbconvert_exporter": "python",
      "pygments_lexer": "ipython3",
      "version": "3.7.6"
    },
    "colab": {
      "name": "code.ipynb",
      "provenance": [],
      "collapsed_sections": [],
      "toc_visible": true
    }
  },
  "cells": [
    {
      "cell_type": "code",
      "metadata": {
        "id": "kTsryFdoK6Tq"
      },
      "source": [
        "import csv\n",
        "import numpy as np\n",
        "import pandas as pd\n",
        "import urllib.parse\n",
        "import sys\n",
        "import re"
      ],
      "execution_count": 1,
      "outputs": []
    },
    {
      "cell_type": "markdown",
      "metadata": {
        "id": "xA-WZ3LYK6Tw"
      },
      "source": [
        "### Part 1"
      ]
    },
    {
      "cell_type": "code",
      "metadata": {
        "id": "UQK_b05aK6Tx"
      },
      "source": [
        "file=open(\"articles.tsv\")\n",
        "df = csv.reader(file, delimiter=\"\\t\")\n",
        "\n",
        "art=[]\n",
        "for r in df:\n",
        "    if len(r):\n",
        "        art.append(urllib.parse.unquote(r[0]))\n",
        "    else:\n",
        "        art.append('')\n",
        "del art[0:12]\n",
        "\n",
        "name=[]\n",
        "for r in range(len(art)):\n",
        "    if r+1<10:\n",
        "        name.append('A000'+str(r+1))\n",
        "    elif r+1<100:\n",
        "        name.append('A00'+str(r+1))\n",
        "    elif r+1<1000:\n",
        "        name.append('A0'+str(r+1))\n",
        "    else:\n",
        "        name.append('A'+str(r+1))\n",
        "\n",
        "data= {'Code':name, 'Article':art}\n",
        "df=pd.DataFrame(data,columns=['Code','Article'])\n",
        "\n",
        "df.to_csv('article-ids.csv')"
      ],
      "execution_count": 2,
      "outputs": []
    },
    {
      "cell_type": "markdown",
      "metadata": {
        "id": "TXVhCL5XK6T1"
      },
      "source": [
        "### Part 2"
      ]
    },
    {
      "cell_type": "code",
      "metadata": {
        "id": "BuoVbSZPK6T1"
      },
      "source": [
        "file=open(\"categories.tsv\")\n",
        "df = csv.reader(file, delimiter=\"\\t\")\n",
        "\n",
        "cat=[]\n",
        "for r in df:\n",
        "    cat.append(r)\n",
        "del cat[0:13]\n",
        "\n",
        "heir=[[],[],[],[]]\n",
        "for r in cat:\n",
        "    s=r[1].split('.')\n",
        "    for i in range(len(s)):\n",
        "        if s[i] not in heir[i]:\n",
        "            heir[i].append(urllib.parse.unquote(s[i]))\n",
        "\n",
        "for i in range(4):\n",
        "    heir[i].sort()\n",
        "\n",
        "c=1\n",
        "df=pd.DataFrame(columns=['Code','Category'])\n",
        "for i in range(4):\n",
        "    for j in range(len(heir[i])):\n",
        "        if c<10:\n",
        "            nr = {'Code':heir[i][j], 'Category':'C000'+str(c)}\n",
        "        elif c<100:\n",
        "            nr = {'Code':heir[i][j], 'Category':'C00'+str(c)}\n",
        "        elif c<1000:\n",
        "            nr = {'Code':heir[i][j], 'Category':'C0'+str(c)}\n",
        "        else:\n",
        "            nr = {'Code':heir[i][j], 'Category':'C'+str(c)}\n",
        "        c+=1\n",
        "        df=df.append(nr,ignore_index=True)\n",
        "\n",
        "df.to_csv('category-ids.csv')"
      ],
      "execution_count": 3,
      "outputs": []
    },
    {
      "cell_type": "markdown",
      "metadata": {
        "id": "lpzltWBLK6T5"
      },
      "source": [
        "### Part 3"
      ]
    },
    {
      "cell_type": "code",
      "metadata": {
        "id": "xH-iVQt6K6T6"
      },
      "source": [
        "yup={}\n",
        "\n",
        "df=pd.read_csv('category-ids.csv',index_col=0)\n",
        "cat_code={}\n",
        "for i in df.index:\n",
        "    cat_code[df['Code'][i]]=df['Category'][i]\n",
        "\n",
        "df=pd.read_csv('article-ids.csv',index_col=0)\n",
        "art_code={}\n",
        "for i in df.index:\n",
        "    art_code[df['Article'][i]]=df['Code'][i]\n",
        "    yup[df['Code'][i]]=[]\n",
        "\n",
        "file=open(\"categories.tsv\")\n",
        "df = csv.reader(file, delimiter=\"\\t\")\n",
        "cat=[]\n",
        "for r in df:\n",
        "    cat.append(r)\n",
        "del cat[0:13]\n",
        "for r in cat:\n",
        "    s=r[1].split('.')\n",
        "    for i in range(len(s)):\n",
        "        yup[art_code[urllib.parse.unquote(r[0])]].append(cat_code[urllib.parse.unquote(s[i])])\n",
        "\n",
        "df1=pd.DataFrame(columns=['Articles','Categories'])\n",
        "for a1,a2 in yup.items():\n",
        "    s='No_Category'\n",
        "    for r in range(len(a2)):\n",
        "        if r==0:\n",
        "            s=a2[r]\n",
        "        else:\n",
        "            s=s+','+a2[r]\n",
        "    nr = {'Articles':a1, 'Categories':s}\n",
        "    df1=df1.append(nr,ignore_index=True)\n",
        "\n",
        "df1.to_csv('article-categories.csv')"
      ],
      "execution_count": 4,
      "outputs": []
    },
    {
      "cell_type": "markdown",
      "metadata": {
        "id": "FHJgX4MRK6T9"
      },
      "source": [
        "### Part 4"
      ]
    },
    {
      "cell_type": "code",
      "metadata": {
        "id": "EcISHGc8K6T-"
      },
      "source": [
        "file = open(\"shortest-path-distance-matrix.txt\",\"r\")\n",
        "text = file.readlines()\n",
        "del text[0:17]\n",
        "\n",
        "df=pd.read_csv('article-ids.csv',index_col=0)\n",
        "art_code=[]\n",
        "for i in df.index:\n",
        "    art_code.append(df['Code'][i])\n",
        "\n",
        "adj=[] # adjacency list\n",
        "for i in art_code:\n",
        "    adj.append([])\n",
        "# edge={} # only edges\n",
        "fe=[]; te=[];# seperated\n",
        "for i in range(len(art_code)):\n",
        "    for j in range(len(art_code)):\n",
        "        if text[i][j]!='1':\n",
        "            continue\n",
        "        # edge[i]=j\n",
        "        adj[i].append(j)\n",
        "        fe.append(art_code[i])\n",
        "        te.append(art_code[j])\n",
        "\n",
        "df=pd.DataFrame()\n",
        "df['From Article']=fe\n",
        "df['To Article']=te\n",
        "df.to_csv('edges.csv')\n",
        "file.close()"
      ],
      "execution_count": 5,
      "outputs": []
    },
    {
      "cell_type": "markdown",
      "metadata": {
        "id": "4CcOi4I6K6UB"
      },
      "source": [
        "###Part 5"
      ]
    },
    {
      "cell_type": "code",
      "metadata": {
        "id": "XtF3KfZKK6UC"
      },
      "source": [
        "# To increase recursion limit\n",
        "sys.setrecursionlimit(5000)\n",
        "\n",
        "def dfs(vis,stack,i):\n",
        "    vis[i]=True\n",
        "    for j in adj[i]:\n",
        "        if vis[j]==False:\n",
        "            dfs(vis,stack,j)\n",
        "            stack.append(j)\n",
        "\n",
        "def dfsUtil(vis,vn,i):\n",
        "    vis[i]=True\n",
        "    vn.append(i)\n",
        "    for j in adj[i]:\n",
        "        if vis[j]==False:\n",
        "            dfs(vis,vn,j)\n",
        "\n",
        "stack=[]\n",
        "vis=[False]*len(adj)\n",
        "for i in range(len(adj)):\n",
        "    if vis[i]==False:\n",
        "        dfs(vis,stack,i)\n",
        "\n",
        "vis=[False]*len(adj)\n",
        "ssc=[]\n",
        "while len(stack)>0:\n",
        "    v=stack.pop()\n",
        "    if vis[v]==False:\n",
        "        vn=[]\n",
        "        dfsUtil(vis,vn,v)\n",
        "        ssc.append(vn)"
      ],
      "execution_count": 6,
      "outputs": []
    },
    {
      "cell_type": "code",
      "metadata": {
        "id": "RF9a6TQmLs3X",
        "colab": {
          "base_uri": "https://localhost:8080/"
        },
        "outputId": "97cc47d8-6083-4193-ede6-7e5d02178209"
      },
      "source": [
        "file = open(\"shortest-path-distance-matrix.txt\",\"r\")\n",
        "text = file.readlines()\n",
        "del text[0:17]\n",
        "\n",
        "print('Number of connected components is ', len(ssc))\n",
        "\n",
        "df=pd.DataFrame(columns=['Number of nodes','Number of edges','Diameter'])\n",
        "for nodes in ssc:\n",
        "    # number of nodes\n",
        "    n=len(nodes)\n",
        "    # number of edges\n",
        "    c=0\n",
        "    for i in range(len(nodes)):\n",
        "        for j in range(len(nodes)):\n",
        "            # if i!=j and edge[nodes[i]]==nodes[j]:\n",
        "            if j in adj[i]:\n",
        "                c+=1\n",
        "    # diameter\n",
        "    dia=0\n",
        "    for i in nodes:\n",
        "        for j in nodes:\n",
        "            if text[i][j]>='1' and text[i][j]<'9':\n",
        "                dia=max(dia,int(text[i][j]))\n",
        "\n",
        "    nr={'Number of nodes': n,'Number of edges': c,'Diameter': dia}\n",
        "    df=df.append(nr,ignore_index=True)\n",
        "\n",
        "df.to_csv('graph-components.csv')"
      ],
      "execution_count": 7,
      "outputs": [
        {
          "output_type": "stream",
          "text": [
            "Number of connected components is  34\n"
          ],
          "name": "stdout"
        }
      ]
    },
    {
      "cell_type": "markdown",
      "metadata": {
        "id": "BqCRNDtwbRA-"
      },
      "source": [
        "###Part 6"
      ]
    },
    {
      "cell_type": "code",
      "metadata": {
        "id": "qDsNq3Vhazw1"
      },
      "source": [
        "file=open(\"paths_finished.tsv\")\n",
        "df = csv.reader(file, delimiter=\"\\t\")\n",
        "\n",
        "fin=[]\n",
        "for r in df:\n",
        "    if len(r)==5:\n",
        "        fin.append(urllib.parse.unquote(r[3]))\n",
        "\n",
        "df=pd.read_csv('article-ids.csv',index_col=0)\n",
        "art_code={}\n",
        "for i in df.index:\n",
        "    art_code[df['Article'][i]]=i\n",
        "\n",
        "hpath1=[]; hpath2=[]; spath=[]; ratio1=[]; ratio2=[]\n",
        "for s in fin:\n",
        "    s=s.split(';')\n",
        "    hpath1.append(len(s))\n",
        "    c=0\n",
        "    for h in s:\n",
        "        if h!='<':\n",
        "            c+=1\n",
        "    hpath2.append(c)\n",
        "\n",
        "    i=art_code[s[0]]; j=art_code[s[-1]]\n",
        "    if text[i][j]!='_':\n",
        "        spath.append(int(text[i][j])+1)\n",
        "    else:\n",
        "        spath.append(np.inf)\n",
        "    if spath[-1]==0:\n",
        "        ratio1.append(np.inf); ratio2.append(np.inf)\n",
        "    else:\n",
        "        ratio1.append(hpath1[-1]/spath[-1]); ratio2.append(hpath2[-1]/spath[-1])\n",
        "\n",
        "df1=pd.DataFrame();\n",
        "df1['Length of Human Path']=hpath1\n",
        "df1['Length of Shortest Path']=spath\n",
        "df1['Ratio of Human to Shortest Path']=ratio1\n",
        "df1.to_csv('finished-paths-back.csv')\n",
        "\n",
        "df2=pd.DataFrame();\n",
        "df2['Length of Human Path']=hpath2\n",
        "df2['Length of Shortest Path']=spath\n",
        "df2['Ratio of Human to Shortest Path']=ratio2\n",
        "df2.to_csv('finished-paths-no-back.csv')"
      ],
      "execution_count": 8,
      "outputs": []
    },
    {
      "cell_type": "code",
      "metadata": {
        "id": "yrMbBaaoo5Of",
        "cellView": "form"
      },
      "source": [
        "#@title Part 7 { form-width: \"100%\" }\n",
        "### Part 7"
      ],
      "execution_count": 9,
      "outputs": []
    },
    {
      "cell_type": "code",
      "metadata": {
        "id": "qLhFI9P2nyik"
      },
      "source": [
        "df1=pd.DataFrame(); df2=pd.DataFrame()\n",
        "c1=0; c2=0; l10=0; l11=0; r10=0; r11=0\n",
        "for i in range(len(hpath1)):\n",
        "    if hpath1[i]==spath[i]:\n",
        "        c1+=1\n",
        "    if hpath2[i]==spath[i]:\n",
        "        c2+=1\n",
        "    if abs(hpath1[i]-spath[i])>=1 and abs(hpath1[i]-spath[i])<=10:\n",
        "        l10+=1\n",
        "    if abs(hpath1[i]-spath[i])>=11:\n",
        "        l11+=1\n",
        "    if abs(hpath2[i]-spath[i])>=1 and abs(hpath2[i]-spath[i])<=10:\n",
        "        r10+=1\n",
        "    if abs(hpath2[i]-spath[i])>=11:\n",
        "        r11+=1\n",
        "\n",
        "df1['Percent of human paths equal to shortest path']= [c1/len(hpath1)*100]\n",
        "df1['Percent paths length 1-10 more than shortest path']= [l10/len(hpath1)*100]\n",
        "df1['Percent paths length 11 more than shortest path']= [l11/len(hpath1)*100]\n",
        "df1.to_csv('percentage-paths-back.csv')\n",
        "\n",
        "df2['Percent of human paths equal to shortest path']= [c2/len(hpath2)*100]\n",
        "df2['Percent paths length 1-10 more than shortest path']= [r10/len(hpath2)*100]\n",
        "df2['Percent paths length 11 more than shortest path']= [r11/len(hpath2)*100]\n",
        "df = csv.reader(file, delimiter=\"\\t\")\n",
        "\n",
        "fin=[]\n",
        "for r in df:\n",
        "    if len(r)==5:\n",
        "        fin.append(urllib.parse.unquote(r[3]))\n",
        "df2.to_csv('percentage-paths-no-back.csv')"
      ],
      "execution_count": 10,
      "outputs": []
    },
    {
      "cell_type": "markdown",
      "metadata": {
        "id": "OHP9Fo6SsEH3"
      },
      "source": [
        "### Part 8"
      ]
    },
    {
      "cell_type": "code",
      "metadata": {
        "id": "TWcpPmVpsgYA"
      },
      "source": [
        "df=pd.read_csv('article-categories.csv')\n",
        "cat={}\n",
        "for i in df.index:\n",
        "    cat[df['Articles'][i]]=df['Categories'][i].split(',')\n",
        "df=pd.read_csv('article-ids.csv',index_col=0)\n",
        "art_code={}; edge={}; art=[]\n",
        "for i in df.index:\n",
        "    art_code[df['Article'][i]]=df['Code'][i]\n",
        "    edge[df['Code'][i]]=[]\n",
        "    art.append(df['Code'][i])\n",
        "    # art_index[i]=df['Code'][i]\n",
        "\n",
        "df=pd.read_csv('edges.csv')\n",
        "for i in df.index:\n",
        "    edge[df['From Article'][i]].append(df['To Article'][i])\n",
        "\n",
        "def shortest_path(src,dest,par):\n",
        "    g=[src]; fl=0\n",
        "    while len(g)>0:\n",
        "        qw=g.pop(0)\n",
        "        if qw==dest:\n",
        "            fl=1\n",
        "            break\n",
        "        for v in edge[qw]:\n",
        "            par[v]=qw\n",
        "            g.append(v)\n",
        "    \n",
        "    if fl==0: #no path\n",
        "        return [-1,-1]\n",
        "\n",
        "    e=t[-1]; c=0; g=set([])\n",
        "    while par[e]!=t[0]:\n",
        "        g.update(cat[e])\n",
        "        c+= len(cat[e])\n",
        "        e=par[e]\n",
        "    return [c,len(g)]\n",
        "\n",
        "file=open(\"paths_finished.tsv\")\n",
        "df = csv.reader(file, delimiter=\"\\t\")\n",
        "fp_r=[]; fp_Nr=[]; sp_r=[]; sp_Nr=[]; x=[]\n",
        "for r in df:\n",
        "    if len(r)==5:\n",
        "        t=(urllib.parse.unquote(r[3])).split(\";\")\n",
        "        t=[art_code[i] for i in t if i != '<']\n",
        "        c=0; g=set([])\n",
        "        for w in t:\n",
        "            g.update(cat[w])\n",
        "            c+= len(cat[w])\n",
        "        fp_r.append(c); fp_Nr.append(len(g))\n",
        "        g=set([]); g.update(cat[t[0]]); g.update(cat[t[-1]])\n",
        "        sp_r.append(len(t[0])+len(t[-1])); sp_Nr.append(len(g))\n",
        "        x.append(r)\n",
        "\n",
        "df=pd.DataFrame()\n",
        "df['Path']=x\n",
        "df['Full Path Repeated Categories']=fp_r\n",
        "df['Full Path Unique Categories']=fp_Nr\n",
        "df['Shortest Path Repeated Categories']=sp_r\n",
        "df['Shortest Path Unique Categories']=sp_Nr\n",
        "t[-1]\n",
        "df.to_csv('category-paths.csv')"
      ],
      "execution_count": 13,
      "outputs": []
    },
    {
      "cell_type": "markdown",
      "metadata": {
        "id": "OZVH_rEJGaPH"
      },
      "source": [
        "### Part 9"
      ]
    },
    {
      "cell_type": "code",
      "metadata": {
        "id": "dzG7Y4vVYKkk"
      },
      "source": [
        "df=pd.read_csv('category-ids.csv',index_col=0)\n",
        "cat_count={}; cat_code={}\n",
        "for i in df.index:\n",
        "    cat_count[df['Category'][i]]=0\n",
        "    cat_code[df['Category'][i]]=df['Code'][i]\n",
        "\n",
        "file=open(\"categories.tsv\")\n",
        "df = csv.reader(file, delimiter=\"\\t\")\n",
        "cat=[]\n",
        "for r in df:\n",
        "    cat.append(r)\n",
        "del cat[0:13]\n",
        "ding=[]\n",
        "for r in cat:\n",
        "    s=r[1].split('.')\n",
        "    for i in reversed(range(len(s))):\n",
        "        if s[i] in cat_count.keys():\n",
        "            cat_count[s[i]]+= len(s)-1-i\n",
        "        else:\n",
        "            cat_count[s[i]]= len(s)-1-i\n",
        "code=[]; sub_cat=[]\n",
        "for ind in list(cat_count.keys()):\n",
        "    code.append(ind)\n",
        "    sub_cat.append(cat_count[ind])\n",
        "df=pd.DataFrame()\n",
        "df['Code']=code\n",
        "df['Sub-categories']=sub_cat\n",
        "\n",
        "df.to_csv('category-subtree-paths.csv')"
      ],
      "execution_count": 14,
      "outputs": []
    }
  ]
}